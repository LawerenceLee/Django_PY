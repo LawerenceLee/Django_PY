{
 "cells": [
  {
   "cell_type": "markdown",
   "metadata": {},
   "source": [
    "# Django Tutorial\n",
    "by Kenneth Love\n",
    "\n",
    "Django is web framework designed to be out of the box ready, however it does have a lot of great third party libraries to choose from.\n",
    "\n",
    "#### What are CMS's?\n",
    "* CMS stands for Content Management Systems.\n",
    "* Their development was driven by the need publish newspaper content online.\n",
    "* Django was orginally developed to be a CMS at a newspaper.\n",
    "\n",
    "#### Django is used by:\n",
    "* Instagram\n",
    "* Mozilla\n",
    "* Pinterest\n",
    "\n",
    "#### Installing Django\n",
    "```pip install django```\n",
    "\n",
    "##### Other Django Tutorials\n",
    "[Django Basic Poll Application](https://docs.djangoproject.com/en/1.11/intro/tutorial01/)\n",
    "\n",
    "## Starting the Project\n",
    "`django-admin.py startproject learning_site` or `django-admin startproject learning_site` will get the project started (Creates a project skeleton essentially). We won't need django-admin again for the rest of our work in this course.\n",
    "\n",
    "\n",
    "#### What is manage.py?\n",
    "* Used to run commands for a project, its kind of like Django Admin.\n",
    "    * Could be used to create a new application\n",
    "    * Could be used to migrate a database\n",
    "    * etc.\n",
    "    \n",
    "### Inside of learning_site (or the name you specified after `startporject`) Directory:\n",
    "\n",
    "#### What is settings.py?\n",
    "* Just holds all the settings for your applicaton.\n",
    "\n",
    "#### What is urls.py?\n",
    "* Will contain all the base URLs for the application you build.\n",
    "\n",
    "#### What is wsgi.py?\n",
    "* Controls how your application will be served on the internet, such as wether your using AWS or Heroku.\n",
    "\n",
    "## Running the Server\n",
    "* `python manage.py runserver 0.0.0.0:8000` will run the server for Workspaces. On your own computer, you probably don't need the `0.0.0.0:8000` part.\n",
    "    * You'll probably get something like the following error message when run this command for the first time:\n",
    "        * ```You have 13 unapplied migration(s). Your project may not work properly until you apply the migrations for app(s): admin, auth, contenttypes, sessions.\n",
    "Run 'python manage.py migrate' to apply them.```\n",
    "        * This is normal, and wil go away once you run `python manage.py migrate`\n",
    "    * When this command is run for the first time a sqlite3 database 'db.sqlite3' is created at the root. You can configure another db to be setup by default like MySQL or PostGreSQL. You'll definitly want to switch to over to one of those (or any other pro db system) once you take your project live.\n",
    "* `python manage.py migrate` will apply all pending migrations from all apps. More on apps later.\n",
    "\n",
    "#### What are migrations?\n",
    "Migrations are a way of moving a database from one design, a specific set of tables and columns, to a new one. Migrations are reversible, too. The fact that they can be done backwards and forwards is what gives them their name.\n",
    "\n",
    "## Hello Django\n",
    "Django is a MVC, or Model View Controller Framework.\n",
    "* Django refers to templates as templates and functions that return rendered templates as views.\n",
    "\n",
    "`HttpReponse` is the class that represents an HTTP response back to the client. The way we used it in this video is the absolute simplest way of generating a response. It's not the most useful tool in the shed, but it's the gateway to all of the other HTTP tools we have.\n",
    "\n",
    "More information about [`HttpResponse`](https://docs.djangoproject.com/en/1.8/ref/request-response/#httpresponse-objects) and about Django's [view functions](https://docs.djangoproject.com/en/1.8/topics/http/views/)."
   ]
  },
  {
   "cell_type": "code",
   "execution_count": null,
   "metadata": {},
   "outputs": [],
   "source": []
  }
 ],
 "metadata": {
  "kernelspec": {
   "display_name": "Python 3",
   "language": "python",
   "name": "python3"
  },
  "language_info": {
   "codemirror_mode": {
    "name": "ipython",
    "version": 3
   },
   "file_extension": ".py",
   "mimetype": "text/x-python",
   "name": "python",
   "nbconvert_exporter": "python",
   "pygments_lexer": "ipython3",
   "version": "3.6.3"
  }
 },
 "nbformat": 4,
 "nbformat_minor": 2
}

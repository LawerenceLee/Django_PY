{
 "cells": [
  {
   "cell_type": "markdown",
   "metadata": {},
   "source": [
    "# Django Tutorial\n",
    "by Kenneth Love\n",
    "\n",
    "Django is web framework designed to be out of the box ready, however it does have a lot of great third party libraries to choose from.\n",
    "\n",
    "##### What are CMS's?\n",
    "* CMS stands for Content Management Systems.\n",
    "* Their development was driven by the need publish newspaper content online.\n",
    "* Django was orginally developed to be a CMS at a newspaper.\n",
    "\n",
    "##### Django is used by:\n",
    "* Instagram\n",
    "* Mozilla\n",
    "* Pinterest\n",
    "\n",
    "##### Installing Django\n",
    "```pip install django```\n",
    "\n",
    "##### Other Django Tutorials\n",
    "[Django Basic Poll Application](https://docs.djangoproject.com/en/1.11/intro/tutorial01/)\n",
    "\n",
    "## Starting the Project\n",
    "`django-admin.py startproject learning_site` or `django-admin startproject learning_site` will get the project started. We won't need django-admin again for the rest of our work in this course."
   ]
  },
  {
   "cell_type": "code",
   "execution_count": null,
   "metadata": {},
   "outputs": [],
   "source": []
  }
 ],
 "metadata": {
  "kernelspec": {
   "display_name": "Python 3",
   "language": "python",
   "name": "python3"
  },
  "language_info": {
   "codemirror_mode": {
    "name": "ipython",
    "version": 3
   },
   "file_extension": ".py",
   "mimetype": "text/x-python",
   "name": "python",
   "nbconvert_exporter": "python",
   "pygments_lexer": "ipython3",
   "version": "3.6.3"
  }
 },
 "nbformat": 4,
 "nbformat_minor": 2
}
